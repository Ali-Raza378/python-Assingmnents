{
 "cells": [
  {
   "cell_type": "code",
   "execution_count": 1,
   "metadata": {},
   "outputs": [
    {
     "name": "stdout",
     "output_type": "stream",
     "text": [
      "Hello 'Ali Raza'\n",
      " Your application is accepted for Artifical Intelligince in University of Sargodha .\n"
     ]
    }
   ],
   "source": [
    "Name = \"'Ali Raza'\"\n",
    "Age = 21\n",
    "Uni = \"University of Sargodha \"\n",
    "Class = \"Artifical Intelligince\"\n",
    "msg = \"Hello {}\\n Your application is accepted for {} in {}.\".format(Name,Class,Uni)\n",
    "print(msg)"
   ]
  },
  {
   "cell_type": "code",
   "execution_count": null,
   "metadata": {},
   "outputs": [],
   "source": []
  }
 ],
 "metadata": {
  "kernelspec": {
   "display_name": "Python 3",
   "language": "python",
   "name": "python3"
  },
  "language_info": {
   "codemirror_mode": {
    "name": "ipython",
    "version": 3
   },
   "file_extension": ".py",
   "mimetype": "text/x-python",
   "name": "python",
   "nbconvert_exporter": "python",
   "pygments_lexer": "ipython3",
   "version": "3.7.4"
  }
 },
 "nbformat": 4,
 "nbformat_minor": 2
}
